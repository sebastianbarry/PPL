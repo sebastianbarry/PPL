{
 "cells": [
  {
   "cell_type": "markdown",
   "metadata": {},
   "source": [
    "# Example Social Network\n",
    "This is an example social network to illustrate the algorithms needed for Program 3.\n",
    "\n",
    "The characters are those from Scooby Doo and the Flintstones."
   ]
  },
  {
   "cell_type": "code",
   "execution_count": 1,
   "metadata": {},
   "outputs": [
    {
     "data": {
      "text/plain": [
       "11-element Vector{String}:\n",
       " \"Freddy\"\n",
       " \"Daphne\"\n",
       " \"Velma\"\n",
       " \"Shaggy\"\n",
       " \"Scooby\"\n",
       " \"Fred\"\n",
       " \"Wilma\"\n",
       " \"Pebbles\"\n",
       " \"Barney\"\n",
       " \"Betty\"\n",
       " \"Bam Bam\""
      ]
     },
     "execution_count": 1,
     "metadata": {},
     "output_type": "execute_result"
    }
   ],
   "source": [
    "characters = [\"Freddy\", \"Daphne\", \"Velma\", \"Shaggy\", \"Scooby\", \"Fred\", \"Wilma\", \"Pebbles\", \"Barney\", \"Betty\", \"Bam Bam\"]"
   ]
  },
  {
   "cell_type": "markdown",
   "metadata": {},
   "source": [
    "There are 5 comics:\n",
    "* SD1 - Shaggy, Scooby\n",
    "* SD2 - Freddy, Daphne, Velma, Shaggy, Scooby\n",
    "* SD3 - Shaggy, Scooby, Pebbles, Bam Bam\n",
    "* F1 - Fred, Wilma, Barney, Betty\n",
    "* F2 - Fred, Wilma, Pebbles, Barney, Betty, Bam Bam"
   ]
  },
  {
   "cell_type": "code",
   "execution_count": 2,
   "metadata": {
    "scrolled": true
   },
   "outputs": [
    {
     "data": {
      "text/plain": [
       "5-element Vector{String}:\n",
       " \"SD1\"\n",
       " \"SD2\"\n",
       " \"SD3\"\n",
       " \"F1\"\n",
       " \"F2\""
      ]
     },
     "execution_count": 2,
     "metadata": {},
     "output_type": "execute_result"
    }
   ],
   "source": [
    "comics = [\"SD1\", \"SD2\", \"SD3\", \"F1\", \"F2\"]"
   ]
  },
  {
   "cell_type": "markdown",
   "metadata": {},
   "source": [
    "Now we need to make the appearances matrix. Remember that the characters and comics use 1-based indexing. The appearance matrix will be #characters x #comics (11 x 5). The entries will be 1 if the character appears in the comic and 0 otherwise."
   ]
  },
  {
   "cell_type": "code",
   "execution_count": 3,
   "metadata": {},
   "outputs": [
    {
     "data": {
      "text/plain": [
       "11×5 Matrix{Int64}:\n",
       " 0  1  0  0  0\n",
       " 0  1  0  0  0\n",
       " 0  1  0  0  0\n",
       " 1  1  1  0  0\n",
       " 1  1  1  0  0\n",
       " 0  0  0  1  1\n",
       " 0  0  0  1  1\n",
       " 0  0  1  0  1\n",
       " 0  0  0  1  1\n",
       " 0  0  0  1  1\n",
       " 0  0  1  0  1"
      ]
     },
     "execution_count": 3,
     "metadata": {},
     "output_type": "execute_result"
    }
   ],
   "source": [
    "A = [0 1 0 0 0;\n",
    "     0 1 0 0 0;\n",
    "     0 1 0 0 0;\n",
    "     1 1 1 0 0;\n",
    "     1 1 1 0 0;\n",
    "     0 0 0 1 1;\n",
    "     0 0 0 1 1;\n",
    "     0 0 1 0 1;\n",
    "     0 0 0 1 1;\n",
    "     0 0 0 1 1;\n",
    "     0 0 1 0 1]"
   ]
  },
  {
   "cell_type": "markdown",
   "metadata": {},
   "source": [
    "The collaboration matrix is A x transpose(A), which is of size #characters x #characters."
   ]
  },
  {
   "cell_type": "code",
   "execution_count": 4,
   "metadata": {},
   "outputs": [
    {
     "data": {
      "text/plain": [
       "11×11 Matrix{Int64}:\n",
       " 1  1  1  1  1  0  0  0  0  0  0\n",
       " 1  1  1  1  1  0  0  0  0  0  0\n",
       " 1  1  1  1  1  0  0  0  0  0  0\n",
       " 1  1  1  3  3  0  0  1  0  0  1\n",
       " 1  1  1  3  3  0  0  1  0  0  1\n",
       " 0  0  0  0  0  2  2  1  2  2  1\n",
       " 0  0  0  0  0  2  2  1  2  2  1\n",
       " 0  0  0  1  1  1  1  2  1  1  2\n",
       " 0  0  0  0  0  2  2  1  2  2  1\n",
       " 0  0  0  0  0  2  2  1  2  2  1\n",
       " 0  0  0  1  1  1  1  2  1  1  2"
      ]
     },
     "execution_count": 4,
     "metadata": {},
     "output_type": "execute_result"
    }
   ],
   "source": [
    "C = A * A'"
   ]
  },
  {
   "cell_type": "markdown",
   "metadata": {},
   "source": [
    "We are wanting to find the Scooby numbers for any character. Scooby is character number 5 - that is his index in the various arrays.\n",
    "\n",
    "If we take successive powers of the collaboration matrix (C), the lowest power in which an entry with Scooby is non-zero is their Scooby Number."
   ]
  },
  {
   "cell_type": "code",
   "execution_count": 5,
   "metadata": {},
   "outputs": [
    {
     "data": {
      "text/plain": [
       "11×11 Matrix{Int64}:\n",
       " 1  0  0  0  0  0  0  0  0  0  0\n",
       " 0  1  0  0  0  0  0  0  0  0  0\n",
       " 0  0  1  0  0  0  0  0  0  0  0\n",
       " 0  0  0  1  0  0  0  0  0  0  0\n",
       " 0  0  0  0  1  0  0  0  0  0  0\n",
       " 0  0  0  0  0  1  0  0  0  0  0\n",
       " 0  0  0  0  0  0  1  0  0  0  0\n",
       " 0  0  0  0  0  0  0  1  0  0  0\n",
       " 0  0  0  0  0  0  0  0  1  0  0\n",
       " 0  0  0  0  0  0  0  0  0  1  0\n",
       " 0  0  0  0  0  0  0  0  0  0  1"
      ]
     },
     "execution_count": 5,
     "metadata": {},
     "output_type": "execute_result"
    }
   ],
   "source": [
    "C^0"
   ]
  },
  {
   "cell_type": "markdown",
   "metadata": {},
   "source": [
    "Therefore, Scooby (and only Scooby) has a Scooby number of 0."
   ]
  },
  {
   "cell_type": "code",
   "execution_count": 6,
   "metadata": {},
   "outputs": [
    {
     "data": {
      "text/plain": [
       "11×11 Matrix{Int64}:\n",
       " 1  1  1  1  1  0  0  0  0  0  0\n",
       " 1  1  1  1  1  0  0  0  0  0  0\n",
       " 1  1  1  1  1  0  0  0  0  0  0\n",
       " 1  1  1  3  3  0  0  1  0  0  1\n",
       " 1  1  1  3  3  0  0  1  0  0  1\n",
       " 0  0  0  0  0  2  2  1  2  2  1\n",
       " 0  0  0  0  0  2  2  1  2  2  1\n",
       " 0  0  0  1  1  1  1  2  1  1  2\n",
       " 0  0  0  0  0  2  2  1  2  2  1\n",
       " 0  0  0  0  0  2  2  1  2  2  1\n",
       " 0  0  0  1  1  1  1  2  1  1  2"
      ]
     },
     "execution_count": 6,
     "metadata": {},
     "output_type": "execute_result"
    }
   ],
   "source": [
    "C^1"
   ]
  },
  {
   "cell_type": "markdown",
   "metadata": {},
   "source": [
    "Any character with a non-zero value in row 5 has appeared in a comic with Scooby. These are: Freddy, Daphne, Velma, Shaggy, (Scooby), Pebbles, and Bam Bam. They all have a Scooby Number of 1 - except for Scooby who has a Scooby Number of 0."
   ]
  },
  {
   "cell_type": "code",
   "execution_count": 7,
   "metadata": {},
   "outputs": [
    {
     "data": {
      "text/plain": [
       "11×11 Matrix{Int64}:\n",
       " 5  5  5   9   9   0   0   2   0   0   2\n",
       " 5  5  5   9   9   0   0   2   0   0   2\n",
       " 5  5  5   9   9   0   0   2   0   0   2\n",
       " 9  9  9  23  23   2   2  10   2   2  10\n",
       " 9  9  9  23  23   2   2  10   2   2  10\n",
       " 0  0  0   2   2  18  18  12  18  18  12\n",
       " 0  0  0   2   2  18  18  12  18  18  12\n",
       " 2  2  2  10  10  12  12  14  12  12  14\n",
       " 0  0  0   2   2  18  18  12  18  18  12\n",
       " 0  0  0   2   2  18  18  12  18  18  12\n",
       " 2  2  2  10  10  12  12  14  12  12  14"
      ]
     },
     "execution_count": 7,
     "metadata": {},
     "output_type": "execute_result"
    }
   ],
   "source": [
    "C^2"
   ]
  },
  {
   "cell_type": "markdown",
   "metadata": {},
   "source": [
    "By lookiing at row 5 (Scooby's row) we can see that everyone has appeared in a comic with someone who has appeared in a comic with Scooby. So, the maximum Scooby number for anyone is 2. Therefore, the final Scooby Numbers are:\n",
    "* Freddy - 1\n",
    "* Daphne - 1\n",
    "* Velma - 1\n",
    "* Shaggy - 1\n",
    "* Scooby - 0\n",
    "* Fred - 2\n",
    "* Wilma - 2\n",
    "* Pebbles - 1\n",
    "* Barney - 2\n",
    "* Betty - 2\n",
    "* Bam Bam - 1"
   ]
  },
  {
   "cell_type": "markdown",
   "metadata": {},
   "source": [
    "This is the math behind what your Program 3 has to do."
   ]
  },
  {
   "cell_type": "markdown",
   "metadata": {},
   "source": [
    "As an aside, we have not found all of the longest paths through the assiciated graph because there are still zero entries in the matrix."
   ]
  },
  {
   "cell_type": "code",
   "execution_count": 8,
   "metadata": {},
   "outputs": [
    {
     "data": {
      "text/plain": [
       "11×11 Matrix{Int64}:\n",
       " 33  33  33   73   73    4    4   26    4    4   26\n",
       " 33  33  33   73   73    4    4   26    4    4   26\n",
       " 33  33  33   73   73    4    4   26    4    4   26\n",
       " 73  73  73  185  185   36   36   94   36   36   94\n",
       " 73  73  73  185  185   36   36   94   36   36   94\n",
       "  4   4   4   36   36  168  168  124  168  168  124\n",
       "  4   4   4   36   36  168  168  124  168  168  124\n",
       " 26  26  26   94   94  124  124  124  124  124  124\n",
       "  4   4   4   36   36  168  168  124  168  168  124\n",
       "  4   4   4   36   36  168  168  124  168  168  124\n",
       " 26  26  26   94   94  124  124  124  124  124  124"
      ]
     },
     "execution_count": 8,
     "metadata": {},
     "output_type": "execute_result"
    }
   ],
   "source": [
    "C^3"
   ]
  },
  {
   "cell_type": "markdown",
   "metadata": {},
   "source": [
    "This matrix now has no non-zero entries and we have found the longest non-repeating paths through the matrix. So the diameter of the matrix is 3."
   ]
  }
 ],
 "metadata": {
  "kernelspec": {
   "display_name": "Julia 1.6.1",
   "language": "julia",
   "name": "julia-1.6"
  },
  "language_info": {
   "file_extension": ".jl",
   "mimetype": "application/julia",
   "name": "julia",
   "version": "1.6.1"
  }
 },
 "nbformat": 4,
 "nbformat_minor": 4
}
